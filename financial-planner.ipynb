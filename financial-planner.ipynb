{
 "cells": [
  {
   "cell_type": "markdown",
   "metadata": {},
   "source": [
    "# Unit 5 - Financial Planning"
   ]
  },
  {
   "cell_type": "code",
   "execution_count": null,
   "metadata": {},
   "outputs": [],
   "source": [
    "# Initial imports\n",
    "import os\n",
    "import requests\n",
    "import pandas as pd\n",
    "from dotenv import load_dotenv\n",
    "import alpaca_trade_api as tradeapi\n",
    "from MCForecastTools import MCSimulation\n",
    "import json\n",
    "from datetime import datetime \n",
    "from alpaca_trade_api.rest import REST, TimeFrame\n",
    "\n",
    "%matplotlib inline"
   ]
  },
  {
   "cell_type": "code",
   "execution_count": null,
   "metadata": {},
   "outputs": [
    {
     "data": {
      "text/plain": [
       "True"
      ]
     },
     "execution_count": 2,
     "metadata": {},
     "output_type": "execute_result"
    }
   ],
   "source": [
    "# Load .env enviroment variables\n",
    "load_dotenv()"
   ]
  },
  {
   "cell_type": "markdown",
   "metadata": {},
   "source": [
    "## Part 1 - Personal Finance Planner"
   ]
  },
  {
   "cell_type": "markdown",
   "metadata": {},
   "source": [
    "### Collect Crypto Prices Using the `requests` Library"
   ]
  },
  {
   "cell_type": "code",
   "execution_count": null,
   "metadata": {},
   "outputs": [],
   "source": [
    "# Set current amount of crypto assets\n",
    "my_btc = 1.2 \n",
    "my_eth = 5.3"
   ]
  },
  {
   "cell_type": "code",
   "execution_count": null,
   "metadata": {},
   "outputs": [],
   "source": [
    "# Crypto API URLs\n",
    "btc_url = \"https://api.alternative.me/v2/ticker/Bitcoin/?convert=CAD\"\n",
    "eth_url = \"https://api.alternative.me/v2/ticker/Ethereum/?convert=CAD\""
   ]
  },
  {
   "cell_type": "code",
   "execution_count": null,
   "metadata": {},
   "outputs": [
    {
     "name": "stdout",
     "output_type": "stream",
     "text": [
      "{\n",
      "  \"data\": {\n",
      "    \"1\": {\n",
      "      \"id\": 1,\n",
      "      \"name\": \"Bitcoin\",\n",
      "      \"symbol\": \"BTC\",\n",
      "      \"website_slug\": \"bitcoin\",\n",
      "      \"rank\": 1,\n",
      "      \"circulating_supply\": 18995025,\n",
      "      \"total_supply\": 18995025,\n",
      "      \"max_supply\": 21000000,\n",
      "      \"quotes\": {\n",
      "        \"USD\": {\n",
      "          \"price\": 44657.0,\n",
      "          \"volume_24h\": 14044511837,\n",
      "          \"market_cap\": 847798208426,\n",
      "          \"percentage_change_1h\": -0.014528368316938,\n",
      "          \"percentage_change_24h\": 0.51318869299523,\n",
      "          \"percentage_change_7d\": 5.81719912184064,\n",
      "          \"percent_change_1h\": -0.014528368316938,\n",
      "          \"percent_change_24h\": 0.51318869299523,\n",
      "          \"percent_change_7d\": 5.81719912184064\n",
      "        },\n",
      "        \"CAD\": {\n",
      "          \"price\": 55714.0732,\n",
      "          \"volume_24h\": 17521932967.8412,\n",
      "          \"market_cap\": 1057713044832.28,\n",
      "          \"percent_change_1h\": -0.014528368316938,\n",
      "          \"percent_change_24h\": 0.51318869299523,\n",
      "          \"percent_change_7d\": 5.81719912184064\n",
      "        }\n",
      "      },\n",
      "      \"last_updated\": 1648353798\n",
      "    }\n",
      "  },\n",
      "  \"metadata\": {\n",
      "    \"timestamp\": 1648353798,\n",
      "    \"num_cryptocurrencies\": 3105,\n",
      "    \"error\": null\n",
      "  }\n",
      "}\n",
      "{\n",
      "  \"data\": {\n",
      "    \"1027\": {\n",
      "      \"id\": 1027,\n",
      "      \"name\": \"Ethereum\",\n",
      "      \"symbol\": \"ETH\",\n",
      "      \"website_slug\": \"ethereum\",\n",
      "      \"rank\": 2,\n",
      "      \"circulating_supply\": 120127135,\n",
      "      \"total_supply\": 120127135,\n",
      "      \"max_supply\": 0,\n",
      "      \"quotes\": {\n",
      "        \"USD\": {\n",
      "          \"price\": 3140.82,\n",
      "          \"volume_24h\": 7763203420,\n",
      "          \"market_cap\": 377200253950,\n",
      "          \"percentage_change_1h\": -0.325762040238548,\n",
      "          \"percentage_change_24h\": 0.994935325048451,\n",
      "          \"percentage_change_7d\": 6.5686794964298,\n",
      "          \"percent_change_1h\": -0.325762040238548,\n",
      "          \"percent_change_24h\": 0.994935325048451,\n",
      "          \"percent_change_7d\": 6.5686794964298\n",
      "        },\n",
      "        \"CAD\": {\n",
      "          \"price\": 3918.487032,\n",
      "          \"volume_24h\": 9685372586.792,\n",
      "          \"market_cap\": 470595036828.02,\n",
      "          \"percent_change_1h\": -0.325762040238548,\n",
      "          \"percent_change_24h\": 0.994935325048451,\n",
      "          \"percent_change_7d\": 6.5686794964298\n",
      "        }\n",
      "      },\n",
      "      \"last_updated\": 1648353790\n",
      "    }\n",
      "  },\n",
      "  \"metadata\": {\n",
      "    \"timestamp\": 1648353790,\n",
      "    \"num_cryptocurrencies\": 3105,\n",
      "    \"error\": null\n",
      "  }\n",
      "}\n",
      "The current value of your 1.2 BTC is $66856.89\n",
      "The current value of your 5.3 ETH is $20767.98\n"
     ]
    }
   ],
   "source": [
    "# Fetch current BTC price\n",
    "btc_response_data = requests.get(btc_url).json()\n",
    "print(json.dumps(btc_response_data, indent=2))\n",
    "\n",
    "\n",
    "# Fetch current ETH price\n",
    "eth_response_data = requests.get(eth_url).json()\n",
    "print(json.dumps(eth_response_data, indent=2))\n",
    "\n",
    "# Compute current value of my crpto\n",
    "my_btc_value = btc_response_data[\"data\"][\"1\"][\"quotes\"][\"CAD\"][\"price\"] * my_btc\n",
    "my_eth_value = eth_response_data[\"data\"][\"1027\"][\"quotes\"][\"CAD\"][\"price\"]  * my_eth\n",
    "\n",
    "# Print current crypto wallet balance\n",
    "print(f\"The current value of your {my_btc} BTC is ${my_btc_value:0.2f}\")\n",
    "print(f\"The current value of your {my_eth} ETH is ${my_eth_value:0.2f}\")"
   ]
  },
  {
   "cell_type": "markdown",
   "metadata": {},
   "source": [
    "### Collect Investments Data Using Alpaca: `SPY` (stocks) and `AGG` (bonds)"
   ]
  },
  {
   "cell_type": "code",
   "execution_count": null,
   "metadata": {},
   "outputs": [],
   "source": [
    "# Set current amount of shares\n",
    "my_agg = 200\n",
    "my_spy = 50"
   ]
  },
  {
   "cell_type": "code",
   "execution_count": 26,
   "metadata": {},
   "outputs": [
    {
     "name": "stdout",
     "output_type": "stream",
     "text": [
      "Alpaca Key type: PKMQW5X1S1IH6XQFFEUS\n",
      "Alpaca Secret Key type: FSMB1LncqYEhyy0d4mvO0J3ZKO9Jm1JhvzzUV3Jt\n"
     ]
    }
   ],
   "source": [
    "# Set Alpaca API key and secret\n",
    "alpaca_api_key = os.getenv(\"ALPACA_API_KEY\")\n",
    "alpaca_secret_key = os.getenv(\"ALPACA_SECRET_KEY\")\n",
    "\n",
    "# Verify that Alpaca key and secret were correctly loaded\n",
    "print(f\"Alpaca Key type: {alpaca_api_key}\")\n",
    "print(f\"Alpaca Secret Key type: {alpaca_secret_key}\")\n",
    "\n",
    "# Create the Alpaca API object\n",
    "alpaca = tradeapi.REST(\n",
    "    alpaca_api_key,\n",
    "    alpaca_secret_key,\n",
    "    api_version=\"v2\")"
   ]
  },
  {
   "cell_type": "code",
   "execution_count": 64,
   "metadata": {},
   "outputs": [
    {
     "name": "stdout",
     "output_type": "stream",
     "text": [
      "today is 2022-03-27T00:00:00-04:00, yesterday is 2022-03-26T00:00:00-04:00\n",
      "2021-03-27T00:00:00-04:00\n"
     ]
    }
   ],
   "source": [
    "def subtract_days(num_of_days):\n",
    "    earlier_date =  pd.to_datetime('now').floor('d') - pd.offsets.Day(num_of_days)\n",
    "    earlier_date_iso = pd.Timestamp(earlier_date, tz=\"America/New_York\").isoformat()\n",
    "    return earlier_date_iso\n",
    "\n",
    "def subtract_years(num_of_years):\n",
    "    # if we want current time, use datetime.now()\n",
    "    past_date = pd.to_datetime('now').floor('d') - pd.DateOffset(years=num_of_years)\n",
    "    #earlier_date =  pd.to_datetime('now').floor('d') - pd.offsets.Year(num_of_years)\n",
    "    earlier_date_iso = pd.Timestamp(past_date, tz=\"America/New_York\").isoformat()\n",
    "    return earlier_date_iso\n",
    "\n",
    "today = subtract_days(0)\n",
    "yesterday = subtract_days(1)\n",
    "day_before_yesterday = subtract_days(2)\n",
    "print(f\"today is {today}, yesterday is {yesterday}\")\n",
    "\n",
    "date_year_old = subtract_years(1)\n",
    "print(date_year_old)\n",
    "    "
   ]
  },
  {
   "cell_type": "code",
   "execution_count": 65,
   "metadata": {},
   "outputs": [
    {
     "name": "stdout",
     "output_type": "stream",
     "text": [
      "current date is 2022-03-27 01:17:32.750925\n",
      "current date in ISO format is 2022-03-27T01:17:32.750925-04:00\n"
     ]
    },
    {
     "data": {
      "text/html": [
       "<div>\n",
       "<style scoped>\n",
       "    .dataframe tbody tr th:only-of-type {\n",
       "        vertical-align: middle;\n",
       "    }\n",
       "\n",
       "    .dataframe tbody tr th {\n",
       "        vertical-align: top;\n",
       "    }\n",
       "\n",
       "    .dataframe thead th {\n",
       "        text-align: right;\n",
       "    }\n",
       "</style>\n",
       "<table border=\"1\" class=\"dataframe\">\n",
       "  <thead>\n",
       "    <tr style=\"text-align: right;\">\n",
       "      <th></th>\n",
       "      <th>open</th>\n",
       "      <th>high</th>\n",
       "      <th>low</th>\n",
       "      <th>close</th>\n",
       "      <th>volume</th>\n",
       "      <th>trade_count</th>\n",
       "      <th>vwap</th>\n",
       "      <th>symbol</th>\n",
       "    </tr>\n",
       "    <tr>\n",
       "      <th>timestamp</th>\n",
       "      <th></th>\n",
       "      <th></th>\n",
       "      <th></th>\n",
       "      <th></th>\n",
       "      <th></th>\n",
       "      <th></th>\n",
       "      <th></th>\n",
       "      <th></th>\n",
       "    </tr>\n",
       "  </thead>\n",
       "  <tbody>\n",
       "    <tr>\n",
       "      <th>2022-03-25 04:00:00+00:00</th>\n",
       "      <td>106.65</td>\n",
       "      <td>106.65</td>\n",
       "      <td>105.975</td>\n",
       "      <td>106.10</td>\n",
       "      <td>10295813</td>\n",
       "      <td>37569</td>\n",
       "      <td>106.190724</td>\n",
       "      <td>AGG</td>\n",
       "    </tr>\n",
       "    <tr>\n",
       "      <th>2022-03-25 04:00:00+00:00</th>\n",
       "      <td>451.09</td>\n",
       "      <td>452.98</td>\n",
       "      <td>448.430</td>\n",
       "      <td>452.69</td>\n",
       "      <td>77199328</td>\n",
       "      <td>661033</td>\n",
       "      <td>451.047221</td>\n",
       "      <td>SPY</td>\n",
       "    </tr>\n",
       "  </tbody>\n",
       "</table>\n",
       "</div>"
      ],
      "text/plain": [
       "                             open    high      low   close    volume  \\\n",
       "timestamp                                                              \n",
       "2022-03-25 04:00:00+00:00  106.65  106.65  105.975  106.10  10295813   \n",
       "2022-03-25 04:00:00+00:00  451.09  452.98  448.430  452.69  77199328   \n",
       "\n",
       "                           trade_count        vwap symbol  \n",
       "timestamp                                                  \n",
       "2022-03-25 04:00:00+00:00        37569  106.190724    AGG  \n",
       "2022-03-25 04:00:00+00:00       661033  451.047221    SPY  "
      ]
     },
     "execution_count": 65,
     "metadata": {},
     "output_type": "execute_result"
    }
   ],
   "source": [
    "# Format current date as ISO format\n",
    "current_date = datetime.now()\n",
    "print(f\"current date is {current_date}\")\n",
    "today = pd.Timestamp(current_date, tz=\"America/New_York\").isoformat()\n",
    "print(f\"current date in ISO format is {today}\")\n",
    "# Set the tickers\n",
    "tickers = [\"AGG\", \"SPY\"]\n",
    "\n",
    "start_date = pd.Timestamp(\"2022-03-27\", tz=\"America/New_York\").isoformat()\n",
    "end_date = pd.Timestamp(\"2022-03-27\", tz=\"America/New_York\").isoformat()\n",
    "\n",
    "\n",
    "# Set timeframe to '1D' for Alpaca API\n",
    "timeframe = \"1D\"\n",
    "\n",
    "# Get current closing prices for SPY and AGG\n",
    "# (use a limit=1000 parameter to call the most recent 1000 days of data)\n",
    "\n",
    "#sometimes, not getting data for today or yesterday (depending on what time API was executed), so getting \n",
    "#the closing price at day before yesterday\n",
    "df_portfolio = alpaca.get_bars(tickers, TimeFrame.Day,day_before_yesterday, adjustment='raw').df\n",
    "\n",
    "# Preview DataFrame\n",
    "df_portfolio\n",
    "#df_portfolio.index = df_portfolio.index.date\n"
   ]
  },
  {
   "cell_type": "code",
   "execution_count": 17,
   "metadata": {},
   "outputs": [
    {
     "name": "stdout",
     "output_type": "stream",
     "text": [
      "Current AGG closing price: $106.1\n",
      "Current SPY closing price: $452.69\n"
     ]
    }
   ],
   "source": [
    "# Pick AGG and SPY close prices\n",
    "df_portfolio = df_portfolio[['close','symbol']]\n",
    "df_portfolio\n",
    "agg_close_price = df_portfolio.iloc[0]['close']\n",
    "agg_close_price\n",
    "spy_close_price = df_portfolio.iloc[1]['close']\n",
    "# Print AGG and SPY close prices\n",
    "print(f\"Current AGG closing price: ${agg_close_price}\")\n",
    "print(f\"Current SPY closing price: ${spy_close_price}\")"
   ]
  },
  {
   "cell_type": "code",
   "execution_count": 18,
   "metadata": {},
   "outputs": [
    {
     "name": "stdout",
     "output_type": "stream",
     "text": [
      "The current value of your 50 SPY shares is $22634.50\n",
      "The current value of your 200 AGG shares is $21220.00\n"
     ]
    }
   ],
   "source": [
    "# Compute the current value of shares\n",
    "my_spy_value  = my_spy*spy_close_price\n",
    "my_agg_value = my_agg*agg_close_price\n",
    "\n",
    "# Print current value of shares\n",
    "print(f\"The current value of your {my_spy} SPY shares is ${my_spy_value:0.2f}\")\n",
    "print(f\"The current value of your {my_agg} AGG shares is ${my_agg_value:0.2f}\")"
   ]
  },
  {
   "cell_type": "markdown",
   "metadata": {},
   "source": [
    "### Savings Health Analysis"
   ]
  },
  {
   "cell_type": "code",
   "execution_count": 19,
   "metadata": {},
   "outputs": [
    {
     "data": {
      "text/html": [
       "<div>\n",
       "<style scoped>\n",
       "    .dataframe tbody tr th:only-of-type {\n",
       "        vertical-align: middle;\n",
       "    }\n",
       "\n",
       "    .dataframe tbody tr th {\n",
       "        vertical-align: top;\n",
       "    }\n",
       "\n",
       "    .dataframe thead th {\n",
       "        text-align: right;\n",
       "    }\n",
       "</style>\n",
       "<table border=\"1\" class=\"dataframe\">\n",
       "  <thead>\n",
       "    <tr style=\"text-align: right;\">\n",
       "      <th></th>\n",
       "      <th>amount</th>\n",
       "    </tr>\n",
       "  </thead>\n",
       "  <tbody>\n",
       "    <tr>\n",
       "      <th>crypto</th>\n",
       "      <td>87624.86911</td>\n",
       "    </tr>\n",
       "    <tr>\n",
       "      <th>shares</th>\n",
       "      <td>43854.50000</td>\n",
       "    </tr>\n",
       "  </tbody>\n",
       "</table>\n",
       "</div>"
      ],
      "text/plain": [
       "             amount\n",
       "crypto  87624.86911\n",
       "shares  43854.50000"
      ]
     },
     "metadata": {},
     "output_type": "display_data"
    }
   ],
   "source": [
    "# Set monthly household income\n",
    "monthly_income =12000\n",
    "\n",
    "# Consolidate financial assets data\n",
    "total_value_shares = my_spy_value + my_agg_value\n",
    "total_value_crypto = my_btc_value + my_eth_value\n",
    "\n",
    "\n",
    "amount_data ={\"amount\":[total_value_crypto,total_value_shares]}\n",
    "\n",
    "financial_asset_categories = [\"crypto\",\"shares\"]\n",
    "\n",
    "# Create savings DataFrame\n",
    "df_savings = pd.DataFrame(amount_data, index=financial_asset_categories)\n",
    "\n",
    "# Display savings DataFrame\n",
    "display(df_savings)"
   ]
  },
  {
   "cell_type": "code",
   "execution_count": 20,
   "metadata": {},
   "outputs": [
    {
     "data": {
      "text/plain": [
       "<AxesSubplot:title={'center':'Composition of Personal Savings'}, ylabel='amount'>"
      ]
     },
     "execution_count": 20,
     "metadata": {},
     "output_type": "execute_result"
    },
    {
     "data": {
      "image/png": "[encoded data removed]",
      "text/plain": [
       "<Figure size 432x288 with 1 Axes>"
      ]
     },
     "metadata": {},
     "output_type": "display_data"
    }
   ],
   "source": [
    "# Plot savings pie chart\n",
    "df_savings.plot.pie(y=\"amount\", title=\"Composition of Personal Savings\")"
   ]
  },
  {
   "cell_type": "code",
   "execution_count": 23,
   "metadata": {},
   "outputs": [
    {
     "name": "stdout",
     "output_type": "stream",
     "text": [
      "Congratultions! You having enough money in this fund\n"
     ]
    }
   ],
   "source": [
    "# Set ideal emergency fund\n",
    "emergency_fund = monthly_income * 3\n",
    "\n",
    "msg_enough_money= \"Congratultions! You having enough money in this fund\"\n",
    "msg_reached_financial_goal=\"Congratultions!  you have reached your financial goal\"\n",
    "msg_away_from_goal_by =\" You are away from reaching the goal by amount of :\"\n",
    "\n",
    "# Calculate total amount of savings\n",
    "total_savings = total_value_shares + total_value_crypto\n",
    "\n",
    "# Validate saving health - this is the amount that is more or less than the emergency fund\n",
    "saving_health = total_savings - emergency_fund\n",
    "\n",
    "if(total_savings>emergency_fund):\n",
    "    print(msg_enough_money)\n",
    "elif (total_savings == emergency_fund):\n",
    "     print(msg_reached_financial_goal)\n",
    "else:\n",
    "    print(msg_away_from_goal_by + str(-(saving_health)))\n"
   ]
  },
  {
   "cell_type": "markdown",
   "metadata": {},
   "source": [
    "## Part 2 - Retirement Planning\n",
    "\n",
    "### Monte Carlo Simulation"
   ]
  },
  {
   "cell_type": "code",
   "execution_count": null,
   "metadata": {},
   "outputs": [],
   "source": [
    "# Set start and end dates of five years back from today.\n",
    "# Sample results may vary from the solution based on the time frame chosen\n",
    "start_date = pd.Timestamp('2017-03-01', tz='America/New_York').isoformat()\n",
    "end_date = pd.Timestamp('2022-03-01', tz='America/New_York').isoformat()"
   ]
  },
  {
   "cell_type": "code",
   "execution_count": null,
   "metadata": {},
   "outputs": [],
   "source": [
    "# Get 5 years' worth of historical data for SPY and AGG\n",
    "# (use a limit=1000 parameter to call the most recent 1000 days of data)\n",
    "# YOUR CODE HERE!\n",
    "\n",
    "# Display sample data\n",
    "df_stock_data.head()"
   ]
  },
  {
   "cell_type": "code",
   "execution_count": null,
   "metadata": {},
   "outputs": [],
   "source": [
    "# Configuring a Monte Carlo simulation to forecast 30 years cumulative returns\n",
    "# YOUR CODE HERE!"
   ]
  },
  {
   "cell_type": "code",
   "execution_count": null,
   "metadata": {},
   "outputs": [],
   "source": [
    "# Printing the simulation input data\n",
    "# YOUR CODE HERE!"
   ]
  },
  {
   "cell_type": "code",
   "execution_count": null,
   "metadata": {},
   "outputs": [],
   "source": [
    "# Running a Monte Carlo simulation to forecast 30 years cumulative returns\n",
    "# YOUR CODE HERE!"
   ]
  },
  {
   "cell_type": "code",
   "execution_count": null,
   "metadata": {},
   "outputs": [],
   "source": [
    "# Plot simulation outcomes\n",
    "# YOUR CODE HERE!"
   ]
  },
  {
   "cell_type": "code",
   "execution_count": null,
   "metadata": {},
   "outputs": [],
   "source": [
    "# Plot probability distribution and confidence intervals\n",
    "# YOUR CODE HERE!"
   ]
  },
  {
   "cell_type": "markdown",
   "metadata": {},
   "source": [
    "### Retirement Analysis"
   ]
  },
  {
   "cell_type": "code",
   "execution_count": null,
   "metadata": {},
   "outputs": [],
   "source": [
    "# Fetch summary statistics from the Monte Carlo simulation results\n",
    "# YOUR CODE HERE!\n",
    "\n",
    "# Print summary statistics\n",
    "# YOUR CODE HERE!"
   ]
  },
  {
   "cell_type": "markdown",
   "metadata": {},
   "source": [
    "### Calculate the expected portfolio return at the `95%` lower and upper confidence intervals based on a `$20,000` initial investment."
   ]
  },
  {
   "cell_type": "code",
   "execution_count": null,
   "metadata": {},
   "outputs": [],
   "source": [
    "# Set initial investment\n",
    "initial_investment = 20000\n",
    "\n",
    "# Use the lower and upper `95%` confidence intervals to calculate the range of the possible outcomes of our $20,000\n",
    "# YOUR CODE HERE!\n",
    "\n",
    "# Print results\n",
    "print(f\"There is a 95% chance that an initial investment of ${initial_investment} in the portfolio\"\n",
    "      f\" over the next 30 years will end within in the range of\"\n",
    "      f\" ${ci_lower} and ${ci_upper}\")"
   ]
  },
  {
   "cell_type": "markdown",
   "metadata": {},
   "source": [
    "### Calculate the expected portfolio return at the `95%` lower and upper confidence intervals based on a `50%` increase in the initial investment."
   ]
  },
  {
   "cell_type": "code",
   "execution_count": null,
   "metadata": {},
   "outputs": [],
   "source": [
    "# Set initial investment\n",
    "initial_investment = 20000 * 1.5\n",
    "\n",
    "# Use the lower and upper `95%` confidence intervals to calculate the range of the possible outcomes of our $30,000\n",
    "# YOUR CODE HERE!\n",
    "\n",
    "# Print results\n",
    "print(f\"There is a 95% chance that an initial investment of ${initial_investment} in the portfolio\"\n",
    "      f\" over the next 30 years will end within in the range of\"\n",
    "      f\" ${ci_lower} and ${ci_upper}\")"
   ]
  },
  {
   "cell_type": "markdown",
   "metadata": {},
   "source": [
    "## Optional Challenge - Early Retirement\n",
    "\n",
    "\n",
    "### Five Years Retirement Option"
   ]
  },
  {
   "cell_type": "code",
   "execution_count": null,
   "metadata": {},
   "outputs": [],
   "source": [
    "# Configuring a Monte Carlo simulation to forecast 5 years cumulative returns\n",
    "# YOUR CODE HERE!"
   ]
  },
  {
   "cell_type": "code",
   "execution_count": null,
   "metadata": {},
   "outputs": [],
   "source": [
    "# Running a Monte Carlo simulation to forecast 5 years cumulative returns\n",
    "# YOUR CODE HERE!"
   ]
  },
  {
   "cell_type": "code",
   "execution_count": null,
   "metadata": {},
   "outputs": [],
   "source": [
    "# Plot simulation outcomes\n",
    "# YOUR CODE HERE!"
   ]
  },
  {
   "cell_type": "code",
   "execution_count": null,
   "metadata": {},
   "outputs": [],
   "source": [
    "# Plot probability distribution and confidence intervals\n",
    "# YOUR CODE HERE!"
   ]
  },
  {
   "cell_type": "code",
   "execution_count": null,
   "metadata": {},
   "outputs": [],
   "source": [
    "# Fetch summary statistics from the Monte Carlo simulation results\n",
    "# YOUR CODE HERE!\n",
    "\n",
    "# Print summary statistics\n",
    "# YOUR CODE HERE!"
   ]
  },
  {
   "cell_type": "code",
   "execution_count": null,
   "metadata": {},
   "outputs": [],
   "source": [
    "# Set initial investment\n",
    "# YOUR CODE HERE!\n",
    "\n",
    "# Use the lower and upper `95%` confidence intervals to calculate the range of the possible outcomes of our $60,000\n",
    "# YOUR CODE HERE!\n",
    "\n",
    "# Print results\n",
    "print(f\"There is a 95% chance that an initial investment of ${initial_investment} in the portfolio\"\n",
    "      f\" over the next 5 years will end within in the range of\"\n",
    "      f\" ${ci_lower_five} and ${ci_upper_five}\")"
   ]
  },
  {
   "cell_type": "markdown",
   "metadata": {},
   "source": [
    "### Ten Years Retirement Option"
   ]
  },
  {
   "cell_type": "code",
   "execution_count": null,
   "metadata": {},
   "outputs": [],
   "source": [
    "# Configuring a Monte Carlo simulation to forecast 10 years cumulative returns\n",
    "# YOUR CODE HERE!"
   ]
  },
  {
   "cell_type": "code",
   "execution_count": null,
   "metadata": {},
   "outputs": [],
   "source": [
    "# Running a Monte Carlo simulation to forecast 10 years cumulative returns\n",
    "# YOUR CODE HERE!"
   ]
  },
  {
   "cell_type": "code",
   "execution_count": null,
   "metadata": {},
   "outputs": [],
   "source": [
    "# Plot simulation outcomes\n",
    "# YOUR CODE HERE!"
   ]
  },
  {
   "cell_type": "code",
   "execution_count": null,
   "metadata": {},
   "outputs": [],
   "source": [
    "# Plot probability distribution and confidence intervals\n",
    "# YOUR CODE HERE!"
   ]
  },
  {
   "cell_type": "code",
   "execution_count": null,
   "metadata": {},
   "outputs": [],
   "source": [
    "# Fetch summary statistics from the Monte Carlo simulation results\n",
    "# YOUR CODE HERE!\n",
    "\n",
    "# Print summary statistics\n",
    "# YOUR CODE HERE!"
   ]
  },
  {
   "cell_type": "code",
   "execution_count": null,
   "metadata": {},
   "outputs": [],
   "source": [
    "# Set initial investment\n",
    "# YOUR CODE HERE!\n",
    "\n",
    "# Use the lower and upper `95%` confidence intervals to calculate the range of the possible outcomes of our $60,000\n",
    "# YOUR CODE HERE!\n",
    "\n",
    "# Print results\n",
    "print(f\"There is a 95% chance that an initial investment of ${initial_investment} in the portfolio\"\n",
    "      f\" over the next 10 years will end within in the range of\"\n",
    "      f\" ${ci_lower_ten} and ${ci_upper_ten}\")"
   ]
  },
  {
   "cell_type": "code",
   "execution_count": null,
   "metadata": {},
   "outputs": [],
   "source": []
  }
 ],
 "metadata": {
  "kernelspec": {
   "display_name": "Python 3 (ipykernel)",
   "language": "python",
   "name": "python3"
  },
  "language_info": {
   "codemirror_mode": {
    "name": "ipython",
    "version": 3
   },
   "file_extension": ".py",
   "mimetype": "text/x-python",
   "name": "python",
   "nbconvert_exporter": "python",
   "pygments_lexer": "ipython3",
   "version": "3.7.11"
  },
  "nteract": {
   "version": "0.28.0"
  }
 },
 "nbformat": 4,
 "nbformat_minor": 4
}
